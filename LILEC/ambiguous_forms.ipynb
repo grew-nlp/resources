{
 "cells": [
  {
   "cell_type": "code",
   "execution_count": 1,
   "metadata": {},
   "outputs": [
    {
     "name": "stderr",
     "output_type": "stream",
     "text": [
      "connected to port: 63031\n"
     ]
    }
   ],
   "source": [
    "from grewpy import Request, Corpus"
   ]
  },
  {
   "cell_type": "markdown",
   "metadata": {},
   "source": [
    "We build a `Corpus` object from the local folder `UD_Italian-PUD` and ckech its size (number of sentences):"
   ]
  },
  {
   "cell_type": "code",
   "execution_count": 2,
   "metadata": {},
   "outputs": [
    {
     "data": {
      "text/plain": [
       "1000"
      ]
     },
     "execution_count": 2,
     "metadata": {},
     "output_type": "execute_result"
    }
   ],
   "source": [
    "corpus = Corpus(\"UD_Italian-PUD\")\n",
    "len(corpus)"
   ]
  },
  {
   "cell_type": "markdown",
   "metadata": {},
   "source": [
    "The variable `tagging` contains a dictionary whose keys are `form` in the treebank, each value is a dictonary linking POS tages to number of occurrences.\n",
    "The form *è* appears 4 times as a `VERB` and 170 times as an `AUX`:"
   ]
  },
  {
   "cell_type": "code",
   "execution_count": 3,
   "metadata": {},
   "outputs": [
    {
     "data": {
      "text/plain": [
       "(6403, {'VERB': 4, 'AUX': 170})"
      ]
     },
     "execution_count": 3,
     "metadata": {},
     "output_type": "execute_result"
    }
   ],
   "source": [
    "tagging = corpus.count (Request.parse(\"pattern { X[upos] }\"),clustering_keys = [\"X.form\", \"X.upos\"])\n",
    "len (tagging), tagging[\"è\"]"
   ]
  },
  {
   "cell_type": "markdown",
   "metadata": {},
   "source": [
    "We look for highly ambiguous forms with at least 4 different POS for the same form.\n",
    "There are two such forms."
   ]
  },
  {
   "cell_type": "code",
   "execution_count": 4,
   "metadata": {},
   "outputs": [
    {
     "data": {
      "text/plain": [
       "{'più': {'PRON': 1, 'NOUN': 3, 'DET': 5, 'ADV': 71},\n",
       " 'che': {'SCONJ': 143, 'PRON': 173, 'DET': 1, 'CCONJ': 10, 'ADP': 13}}"
      ]
     },
     "execution_count": 4,
     "metadata": {},
     "output_type": "execute_result"
    }
   ],
   "source": [
    "highly_ambiguous_tagging = { k:tagging[k] for k in tagging if len(tagging[k]) >= 4 }\n",
    "highly_ambiguous_tagging"
   ]
  }
 ],
 "metadata": {
  "kernelspec": {
   "display_name": "Python 3",
   "language": "python",
   "name": "python3"
  },
  "language_info": {
   "codemirror_mode": {
    "name": "ipython",
    "version": 3
   },
   "file_extension": ".py",
   "mimetype": "text/x-python",
   "name": "python",
   "nbconvert_exporter": "python",
   "pygments_lexer": "ipython3",
   "version": "3.10.5"
  }
 },
 "nbformat": 4,
 "nbformat_minor": 2
}
