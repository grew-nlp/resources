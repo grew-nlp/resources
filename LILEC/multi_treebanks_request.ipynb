{
 "cells": [
  {
   "cell_type": "markdown",
   "metadata": {},
   "source": [
    "# Comparing lemmas of auxiliaries Italian treebanks\n",
    "In this example, we consider the 10 Italian treebanks in the UD collection version 2.14 (we suppose that there are available locally in the folder).\n",
    "We build a new file `aux_lemmas.tsv` with a comparison of the `AUX` usage in the treebanks:"
   ]
  },
  {
   "cell_type": "code",
   "execution_count": 1,
   "metadata": {},
   "outputs": [
    {
     "name": "stderr",
     "output_type": "stream",
     "text": [
      "connected to port: 63703\n"
     ]
    }
   ],
   "source": [
    "from grewpy import Request, Corpus\n",
    "import os"
   ]
  },
  {
   "cell_type": "code",
   "execution_count": 2,
   "metadata": {},
   "outputs": [],
   "source": [
    "# We get the locally accessible treebanks (i.e. local folders with a name staring with `UD_`).\n",
    "treebanks = [s for s in os.listdir(\".\") if s.startswith(\"UD_\") and os.path.isdir(s)]"
   ]
  },
  {
   "cell_type": "code",
   "execution_count": 3,
   "metadata": {},
   "outputs": [],
   "source": [
    "# Run the request, with clustering of each treebanks\n",
    "r = Request (\"X [upos = AUX]\")\n",
    "observations = dict()\n",
    "for treebank in treebanks:\n",
    "\tcorpus = Corpus(treebank)\n",
    "\tobservations[treebank] = corpus.count (r, clustering_keys=[\"X.lemma\"])\n",
    "\tcorpus.clean()  # helps to save memory"
   ]
  },
  {
   "cell_type": "code",
   "execution_count": 4,
   "metadata": {},
   "outputs": [
    {
     "name": "stdout",
     "output_type": "stream",
     "text": [
      "['fare', 'potere', 'avere', 'sapere', 'volere', 'andare', 'stare', 'dovere', 'venire', 'essere']\n"
     ]
    }
   ],
   "source": [
    "# Compute the list of lemmas in all treebanks\n",
    "lemmas_set = set()\n",
    "for tb in observations:\n",
    "\tlemmas_set.update(observations[tb].keys())\n",
    "lemmas = list (lemmas_set)\n",
    "print (lemmas)"
   ]
  },
  {
   "cell_type": "code",
   "execution_count": 6,
   "metadata": {},
   "outputs": [],
   "source": [
    "# Save the TSV file with percentage\n",
    "tab=\"\\t\"\n",
    "with open ('aux_lemmas.tsv', 'w') as f:\n",
    "\tf.write (f'Treebanks{tab}{tab.join(lemmas)}\\n')\n",
    "\tfor tb in treebanks:\n",
    "\t\tobs = observations[tb]\n",
    "\t\ttotal = sum(obs.values())\n",
    "\t\tratios = [str(obs.get(lemma, 0)/total) for lemma in lemmas]\n",
    "\t\tf.write (f'{tb}{tab}{tab.join(ratios)}\\n')"
   ]
  }
 ],
 "metadata": {
  "kernelspec": {
   "display_name": "Python 3",
   "language": "python",
   "name": "python3"
  },
  "language_info": {
   "codemirror_mode": {
    "name": "ipython",
    "version": 3
   },
   "file_extension": ".py",
   "mimetype": "text/x-python",
   "name": "python",
   "nbconvert_exporter": "python",
   "pygments_lexer": "ipython3",
   "version": "3.10.5"
  }
 },
 "nbformat": 4,
 "nbformat_minor": 2
}
